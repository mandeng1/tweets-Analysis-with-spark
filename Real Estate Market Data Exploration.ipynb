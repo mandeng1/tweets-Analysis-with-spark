{
 "cells": [
  {
   "cell_type": "markdown",
   "metadata": {},
   "source": [
    "# Real Estate Market Data Exploration in Toulouse and its suburbs"
   ]
  },
  {
   "cell_type": "markdown",
   "metadata": {},
   "source": [
    "![](https://static.actu.fr/uploads/2019/12/adobestock-244343663-1-854x569.jpeg)"
   ]
  },
  {
   "cell_type": "markdown",
   "metadata": {},
   "source": [
    "**The notebook is organized as follows:**<br/>\n",
    "**[I : Imports and setting features types](#I-:-Imports-and-setting-features-types)**  <br/>\n",
    "We import the libraries and setting the features types we need for our analysis.<br/> \n",
    "[Imports and setting](#Imports-and-setting)<br/> \n",
    "[shape, info, head and describe](#shape,-info,-head-and-describe) <br/>\n",
    "**[II : Exploratory Data Analysis with insigths](#II-:-Exploratory-Data-Analysis-with-insigths)**    <br/>\n",
    "[The evolution of the price per square meter](#The-evolution-of-the-price-per-square-meter)<br/> \n",
    "[The evolution of the price per square meter per City](#The-evolution-of-the-price-per-square-meter-per-City)<br/> \n",
    "[Differences between apartment and houses](#Differences-between-apartment-and-houses)<br/> \n",
    "* [According to the price per square](#According-to-the-price-per-square)<br/> \n",
    "* [According to the number of Residence ](#According-to-the-number-of-Residence)<br/> \n",
    "* [According to the number of Rooms ](#Differences-between-apartment-and-houses)<br/> \n",
    "[Differences between types of Saletype ](#Differences-between-types-of-Saletype )<br/>\n"
   ]
  },
  {
   "cell_type": "markdown",
   "metadata": {},
   "source": [
    "# <font color='blue'>I : Imports and setting features types<font/>"
   ]
  },
  {
   "cell_type": "markdown",
   "metadata": {},
   "source": [
    "### Imports and setting"
   ]
  },
  {
   "cell_type": "code",
   "execution_count": 24,
   "metadata": {},
   "outputs": [],
   "source": [
    "import seaborn as sns"
   ]
  },
  {
   "cell_type": "code",
   "execution_count": null,
   "metadata": {},
   "outputs": [],
   "source": [
    "import seaborn as sns\n",
    "import pandas as pd \n",
    "import matplotlib.pyplot as plt\n",
    "import pyspark\n",
    "from pyspark.sql.types import *\n",
    "spark = pyspark.sql.SparkSession.builder.appName(\"Spark-Dataframe-SQL-real-estate\").getOrCreate()"
   ]
  },
  {
   "cell_type": "code",
   "execution_count": 4,
   "metadata": {
    "scrolled": true
   },
   "outputs": [
    {
     "name": "stdout",
     "output_type": "stream",
     "text": [
      "+-------------------+--------+--------+--------+-------------------+-------+------+-------------+----------+--------+\n",
      "|           SaleDate|SaleType|   Price|PostCode|               City|NbRooms|NbLots|ResidenceType|LivingArea|LandArea|\n",
      "+-------------------+--------+--------+--------+-------------------+-------+------+-------------+----------+--------+\n",
      "|2019-01-15 00:00:00|    SALE| 95000.0|   31270|VILLENEUVE TOLOSANE|      2|     0|        HOUSE|        45|     505|\n",
      "|2019-01-21 00:00:00|    SALE|261700.0|   31270|VILLENEUVE TOLOSANE|      4|     0|        HOUSE|        87|     311|\n",
      "|2019-01-03 00:00:00|    SALE|101000.0|   31270|VILLENEUVE TOLOSANE|      2|     1|    APARTMENT|        44|       0|\n",
      "|2019-01-11 00:00:00|    SALE| 59500.0|   31270|VILLENEUVE TOLOSANE|      1|     1|    APARTMENT|        26|       0|\n",
      "|2019-01-15 00:00:00|    SALE|179000.0|   31270|VILLENEUVE TOLOSANE|      4|     0|        HOUSE|        95|     263|\n",
      "+-------------------+--------+--------+--------+-------------------+-------+------+-------------+----------+--------+\n",
      "only showing top 5 rows\n",
      "\n"
     ]
    }
   ],
   "source": [
    "df = pd.read_excel('project_data_real_estate_toulouse_and_suburbs.xlsx',inferSchema='')\n",
    "sales_df = spark.createDataFrame(df)\n",
    "\n",
    "sales_df.show(5)"
   ]
  },
  {
   "cell_type": "code",
   "execution_count": 8,
   "metadata": {},
   "outputs": [],
   "source": [
    "dfschema = StructType([StructField(\"SaleDate\", DataType(), False),\n",
    "                       StructField(\"SaleType\", StringType(),False),\n",
    "                       StructField(\"Price\", IntegerType(), False),\n",
    "                       StructField(\"PostCode\", StringType(), False),\n",
    "                       StructField(\"City\", StringType(), False),\n",
    "                       StructField(\"NbRooms\",IntegerType(),False),\n",
    "                       StructField(\"NbLots\",IntegerType(),False),\n",
    "                       StructField(\"ResidenceType\", StringType(), False),\n",
    "                       StructField(\"LivingArea\", IntegerType(), False),\n",
    "                       StructField(\"LandArea\", IntegerType(), False) ])"
   ]
  },
  {
   "cell_type": "code",
   "execution_count": 12,
   "metadata": {
    "scrolled": true
   },
   "outputs": [
    {
     "name": "stdout",
     "output_type": "stream",
     "text": [
      "+-------------------+--------+--------+--------+-------------------+-------+------+-------------+----------+--------+\n",
      "|           SaleDate|SaleType|   Price|PostCode|               City|NbRooms|NbLots|ResidenceType|LivingArea|LandArea|\n",
      "+-------------------+--------+--------+--------+-------------------+-------+------+-------------+----------+--------+\n",
      "|2019-01-15 00:00:00|    SALE| 95000.0|   31270|VILLENEUVE TOLOSANE|      2|     0|        HOUSE|        45|     505|\n",
      "|2019-01-21 00:00:00|    SALE|261700.0|   31270|VILLENEUVE TOLOSANE|      4|     0|        HOUSE|        87|     311|\n",
      "|2019-01-03 00:00:00|    SALE|101000.0|   31270|VILLENEUVE TOLOSANE|      2|     1|    APARTMENT|        44|       0|\n",
      "|2019-01-11 00:00:00|    SALE| 59500.0|   31270|VILLENEUVE TOLOSANE|      1|     1|    APARTMENT|        26|       0|\n",
      "|2019-01-15 00:00:00|    SALE|179000.0|   31270|VILLENEUVE TOLOSANE|      4|     0|        HOUSE|        95|     263|\n",
      "+-------------------+--------+--------+--------+-------------------+-------+------+-------------+----------+--------+\n",
      "only showing top 5 rows\n",
      "\n"
     ]
    }
   ],
   "source": [
    "df = pd.read_excel('project_data_real_estate_toulouse_and_suburbs.xlsx',schema=dfschema)\n",
    "sales_df = spark.createDataFrame(df)\n",
    "\n",
    "sales_df.show(5)"
   ]
  },
  {
   "cell_type": "markdown",
   "metadata": {},
   "source": [
    "### shape, info, head and describe"
   ]
  },
  {
   "cell_type": "code",
   "execution_count": 18,
   "metadata": {},
   "outputs": [
    {
     "data": {
      "text/plain": [
       "(80118, 10)"
      ]
     },
     "execution_count": 18,
     "metadata": {},
     "output_type": "execute_result"
    }
   ],
   "source": [
    "#shape\n",
    "sales_df.toPandas().shape"
   ]
  },
  {
   "cell_type": "code",
   "execution_count": 15,
   "metadata": {},
   "outputs": [
    {
     "name": "stdout",
     "output_type": "stream",
     "text": [
      "<class 'pandas.core.frame.DataFrame'>\n",
      "RangeIndex: 80118 entries, 0 to 80117\n",
      "Data columns (total 10 columns):\n",
      " #   Column         Non-Null Count  Dtype         \n",
      "---  ------         --------------  -----         \n",
      " 0   SaleDate       80118 non-null  datetime64[ns]\n",
      " 1   SaleType       80118 non-null  object        \n",
      " 2   Price          80118 non-null  float64       \n",
      " 3   PostCode       80118 non-null  int64         \n",
      " 4   City           80118 non-null  object        \n",
      " 5   NbRooms        80118 non-null  int64         \n",
      " 6   NbLots         80118 non-null  int64         \n",
      " 7   ResidenceType  80118 non-null  object        \n",
      " 8   LivingArea     80118 non-null  int64         \n",
      " 9   LandArea       80118 non-null  int64         \n",
      "dtypes: datetime64[ns](1), float64(1), int64(5), object(3)\n",
      "memory usage: 6.1+ MB\n"
     ]
    }
   ],
   "source": [
    "#info\n",
    "sales_df.toPandas().info()"
   ]
  },
  {
   "cell_type": "code",
   "execution_count": 16,
   "metadata": {},
   "outputs": [
    {
     "data": {
      "text/html": [
       "<div>\n",
       "<style scoped>\n",
       "    .dataframe tbody tr th:only-of-type {\n",
       "        vertical-align: middle;\n",
       "    }\n",
       "\n",
       "    .dataframe tbody tr th {\n",
       "        vertical-align: top;\n",
       "    }\n",
       "\n",
       "    .dataframe thead th {\n",
       "        text-align: right;\n",
       "    }\n",
       "</style>\n",
       "<table border=\"1\" class=\"dataframe\">\n",
       "  <thead>\n",
       "    <tr style=\"text-align: right;\">\n",
       "      <th></th>\n",
       "      <th>Price</th>\n",
       "      <th>PostCode</th>\n",
       "      <th>NbRooms</th>\n",
       "      <th>NbLots</th>\n",
       "      <th>LivingArea</th>\n",
       "      <th>LandArea</th>\n",
       "    </tr>\n",
       "  </thead>\n",
       "  <tbody>\n",
       "    <tr>\n",
       "      <th>count</th>\n",
       "      <td>8.011800e+04</td>\n",
       "      <td>80118.000000</td>\n",
       "      <td>80118.000000</td>\n",
       "      <td>80118.000000</td>\n",
       "      <td>80118.000000</td>\n",
       "      <td>80118.000000</td>\n",
       "    </tr>\n",
       "    <tr>\n",
       "      <th>mean</th>\n",
       "      <td>5.870220e+05</td>\n",
       "      <td>31330.177239</td>\n",
       "      <td>3.000100</td>\n",
       "      <td>1.037045</td>\n",
       "      <td>66.892758</td>\n",
       "      <td>254.026623</td>\n",
       "    </tr>\n",
       "    <tr>\n",
       "      <th>std</th>\n",
       "      <td>2.407305e+06</td>\n",
       "      <td>227.793036</td>\n",
       "      <td>1.351122</td>\n",
       "      <td>0.829138</td>\n",
       "      <td>35.895210</td>\n",
       "      <td>1369.236760</td>\n",
       "    </tr>\n",
       "    <tr>\n",
       "      <th>min</th>\n",
       "      <td>0.000000e+00</td>\n",
       "      <td>31000.000000</td>\n",
       "      <td>1.000000</td>\n",
       "      <td>0.000000</td>\n",
       "      <td>1.000000</td>\n",
       "      <td>0.000000</td>\n",
       "    </tr>\n",
       "    <tr>\n",
       "      <th>25%</th>\n",
       "      <td>1.247100e+05</td>\n",
       "      <td>31170.000000</td>\n",
       "      <td>2.000000</td>\n",
       "      <td>0.000000</td>\n",
       "      <td>43.000000</td>\n",
       "      <td>0.000000</td>\n",
       "    </tr>\n",
       "    <tr>\n",
       "      <th>50%</th>\n",
       "      <td>1.830000e+05</td>\n",
       "      <td>31300.000000</td>\n",
       "      <td>3.000000</td>\n",
       "      <td>1.000000</td>\n",
       "      <td>62.000000</td>\n",
       "      <td>0.000000</td>\n",
       "    </tr>\n",
       "    <tr>\n",
       "      <th>75%</th>\n",
       "      <td>2.942875e+05</td>\n",
       "      <td>31500.000000</td>\n",
       "      <td>4.000000</td>\n",
       "      <td>2.000000</td>\n",
       "      <td>82.000000</td>\n",
       "      <td>113.000000</td>\n",
       "    </tr>\n",
       "    <tr>\n",
       "      <th>max</th>\n",
       "      <td>3.342722e+07</td>\n",
       "      <td>31830.000000</td>\n",
       "      <td>41.000000</td>\n",
       "      <td>13.000000</td>\n",
       "      <td>481.000000</td>\n",
       "      <td>60792.000000</td>\n",
       "    </tr>\n",
       "  </tbody>\n",
       "</table>\n",
       "</div>"
      ],
      "text/plain": [
       "              Price      PostCode       NbRooms        NbLots    LivingArea  \\\n",
       "count  8.011800e+04  80118.000000  80118.000000  80118.000000  80118.000000   \n",
       "mean   5.870220e+05  31330.177239      3.000100      1.037045     66.892758   \n",
       "std    2.407305e+06    227.793036      1.351122      0.829138     35.895210   \n",
       "min    0.000000e+00  31000.000000      1.000000      0.000000      1.000000   \n",
       "25%    1.247100e+05  31170.000000      2.000000      0.000000     43.000000   \n",
       "50%    1.830000e+05  31300.000000      3.000000      1.000000     62.000000   \n",
       "75%    2.942875e+05  31500.000000      4.000000      2.000000     82.000000   \n",
       "max    3.342722e+07  31830.000000     41.000000     13.000000    481.000000   \n",
       "\n",
       "           LandArea  \n",
       "count  80118.000000  \n",
       "mean     254.026623  \n",
       "std     1369.236760  \n",
       "min        0.000000  \n",
       "25%        0.000000  \n",
       "50%        0.000000  \n",
       "75%      113.000000  \n",
       "max    60792.000000  "
      ]
     },
     "execution_count": 16,
     "metadata": {},
     "output_type": "execute_result"
    }
   ],
   "source": [
    "#describe()\n",
    "sales_df.toPandas().describe()"
   ]
  },
  {
   "cell_type": "markdown",
   "metadata": {},
   "source": [
    "# <font color='blue'>II : Exploratory Data Analysis with insigths<font/>"
   ]
  },
  {
   "cell_type": "markdown",
   "metadata": {},
   "source": [
    "## The evolution of the price per square meter"
   ]
  },
  {
   "cell_type": "code",
   "execution_count": 59,
   "metadata": {
    "scrolled": false
   },
   "outputs": [
    {
     "name": "stdout",
     "output_type": "stream",
     "text": [
      "+-------------------+------------------+\n",
      "|           SaleDate|      Price_square|\n",
      "+-------------------+------------------+\n",
      "|2015-04-08 00:00:00| 384814.8395868804|\n",
      "|2016-01-20 00:00:00|164525.97451953238|\n",
      "|2019-01-31 00:00:00|145157.12641660016|\n",
      "|2017-12-18 00:00:00|111982.01434718957|\n",
      "|2017-04-27 00:00:00| 83609.03875082471|\n",
      "|2016-12-16 00:00:00| 75388.09570181677|\n",
      "|2017-12-06 00:00:00| 68814.54915790989|\n",
      "|2016-11-03 00:00:00|50242.938456632655|\n",
      "|2017-06-16 00:00:00| 43418.70621817171|\n",
      "|2016-12-21 00:00:00| 39958.87267147051|\n",
      "+-------------------+------------------+\n",
      "only showing top 10 rows\n",
      "\n"
     ]
    }
   ],
   "source": [
    "import pyspark.sql.functions as f\n",
    "\n",
    "evolution_price= sales_df.groupBy('SaleDate')\\\n",
    "                                         .agg(f.sum('Price')/f.sum('LivingArea'))\\\n",
    "                                         .withColumnRenamed('(sum(Price) / sum(LivingArea))', 'Price_square')\\\n",
    "                                         .orderBy('Price_square', ascending=False)\n",
    "\n",
    "evolution_price.show(10)"
   ]
  },
  {
   "cell_type": "code",
   "execution_count": 77,
   "metadata": {},
   "outputs": [
    {
     "data": {
      "text/plain": [
       "<matplotlib.axes._subplots.AxesSubplot at 0x1400dfce198>"
      ]
     },
     "execution_count": 77,
     "metadata": {},
     "output_type": "execute_result"
    },
    {
     "data": {
      "image/png": "[encoded data removed]",
      "text/plain": [
       "<Figure size 720x720 with 1 Axes>"
      ]
     },
     "metadata": {
      "needs_background": "light"
     },
     "output_type": "display_data"
    }
   ],
   "source": [
    "plt.figure(figsize=(10,10))\n",
    "sns.lineplot(x='SaleDate',y='Price_square' ,data=evolution_price.toPandas())"
   ]
  },
  {
   "cell_type": "code",
   "execution_count": 68,
   "metadata": {},
   "outputs": [],
   "source": [
    "df_evolution_price=evolution_price.toPandas()\n",
    "df_evolution_price.set_index(\"SaleDate\",inplace=True)"
   ]
  },
  {
   "cell_type": "code",
   "execution_count": 90,
   "metadata": {
    "scrolled": false
   },
   "outputs": [
    {
     "data": {
      "text/plain": [
       "SaleDate\n",
       "2015-12-31    AxesSubplot(0.125,0.2;0.775x0.68)\n",
       "2016-12-31    AxesSubplot(0.125,0.2;0.775x0.68)\n",
       "2017-12-31    AxesSubplot(0.125,0.2;0.775x0.68)\n",
       "2018-12-31    AxesSubplot(0.125,0.2;0.775x0.68)\n",
       "2019-12-31    AxesSubplot(0.125,0.2;0.775x0.68)\n",
       "Freq: A-DEC, Name: Price_square, dtype: object"
      ]
     },
     "execution_count": 90,
     "metadata": {},
     "output_type": "execute_result"
    },
    {
     "data": {
      "image/png": "[encoded data removed]",
      "text/plain": [
       "<Figure size 720x720 with 1 Axes>"
      ]
     },
     "metadata": {
      "needs_background": "light"
     },
     "output_type": "display_data"
    }
   ],
   "source": [
    "# Evolution per year\n",
    "plt.figure(figsize=(10,10))\n",
    "data=df_evolution_price.Price_square.resample('Y')\n",
    "data.plot()\n",
    "#sns.lineplot(x='SaleDate',y='Price_square' ,data=df_evolution_price.Price_square.resample('Y').sum())"
   ]
  },
  {
   "cell_type": "markdown",
   "metadata": {},
   "source": [
    "## The evolution of the price per square meter per City"
   ]
  },
  {
   "cell_type": "code",
   "execution_count": 96,
   "metadata": {},
   "outputs": [
    {
     "name": "stdout",
     "output_type": "stream",
     "text": [
      "+--------------------+------------------+\n",
      "|                City|      Price_square|\n",
      "+--------------------+------------------+\n",
      "|          SAINT-JEAN|11336.965146324219|\n",
      "|            TOULOUSE|10945.983596013864|\n",
      "|             CUGNAUX|  8652.17382927199|\n",
      "|             BLAGNAC| 8442.863598576458|\n",
      "|              PIBRAC| 8094.998380667663|\n",
      "|          AUCAMVILLE| 6977.596809973555|\n",
      "|RAMONVILLE-SAINT-...| 6774.700286630607|\n",
      "|       TOURNEFEUILLE| 5423.551254574287|\n",
      "|               BALMA| 5027.141324572062|\n",
      "|          FENOUILLET| 4725.986359206514|\n",
      "+--------------------+------------------+\n",
      "only showing top 10 rows\n",
      "\n"
     ]
    }
   ],
   "source": [
    "import pyspark.sql.functions as f\n",
    "\n",
    "evolution_price_per_city = sales_df.groupBy('City')\\\n",
    "                                         .agg(f.sum('Price')/f.sum('LivingArea'))\\\n",
    "                                         .withColumnRenamed('(sum(Price) / sum(LivingArea))', 'Price_square')\\\n",
    "                                         .orderBy('Price_square', ascending=False)\n",
    "\n",
    "evolution_price_per_city .show(10)"
   ]
  },
  {
   "cell_type": "code",
   "execution_count": 20,
   "metadata": {},
   "outputs": [],
   "source": [
    "df_evolution= evolution_price_per_city.toPandas()"
   ]
  },
  {
   "cell_type": "code",
   "execution_count": 36,
   "metadata": {
    "scrolled": true
   },
   "outputs": [
    {
     "data": {
      "text/plain": [
       "<matplotlib.axes._subplots.AxesSubplot at 0x14002f7d198>"
      ]
     },
     "execution_count": 36,
     "metadata": {},
     "output_type": "execute_result"
    },
    {
     "data": {
      "image/png": "[encoded data removed]",
      "text/plain": [
       "<Figure size 720x720 with 1 Axes>"
      ]
     },
     "metadata": {
      "needs_background": "light"
     },
     "output_type": "display_data"
    }
   ],
   "source": [
    "plt.figure(figsize=(10,10))\n",
    "sns.barplot(x='City',y='Price_square' ,data=df_evolution,palette='Greens_d')"
   ]
  },
  {
   "cell_type": "markdown",
   "metadata": {},
   "source": [
    "To have a simpler view, we will display just the 10 cities where houses and apartments are expensive."
   ]
  },
  {
   "cell_type": "code",
   "execution_count": 38,
   "metadata": {
    "scrolled": true
   },
   "outputs": [
    {
     "data": {
      "text/plain": [
       "<matplotlib.axes._subplots.AxesSubplot at 0x14003ae4eb8>"
      ]
     },
     "execution_count": 38,
     "metadata": {},
     "output_type": "execute_result"
    },
    {
     "data": {
      "image/png": "[encoded data removed]",
      "text/plain": [
       "<Figure size 1440x720 with 1 Axes>"
      ]
     },
     "metadata": {
      "needs_background": "light"
     },
     "output_type": "display_data"
    }
   ],
   "source": [
    "plt.figure(figsize=(20,10))\n",
    "sns.barplot(x='City',y='Price_square' ,data=df_evolution.head(10),palette='Greens_d')"
   ]
  },
  {
   "cell_type": "markdown",
   "metadata": {},
   "source": [
    "From this graph we can notice the variation of the price of square meter in each part of Toulouse, For Saint Jean and Toulouse where we find the highest price per square meter which is equal to 11400 in Sain Jean and approximately equal to 11,000 in Toulouse while in Some places like Balma the price is around 4000"
   ]
  },
  {
   "cell_type": "markdown",
   "metadata": {},
   "source": [
    "## Differences between apartment and houses"
   ]
  },
  {
   "cell_type": "markdown",
   "metadata": {},
   "source": [
    "### According to the price per square"
   ]
  },
  {
   "cell_type": "markdown",
   "metadata": {},
   "source": [
    "##  <font color='red'>For the Apartement<font/>"
   ]
  },
  {
   "cell_type": "code",
   "execution_count": 40,
   "metadata": {
    "scrolled": true
   },
   "outputs": [
    {
     "name": "stdout",
     "output_type": "stream",
     "text": [
      "+--------------------+------------------+\n",
      "|                City|      Price_square|\n",
      "+--------------------+------------------+\n",
      "|             CUGNAUX|14855.048011524332|\n",
      "|            TOULOUSE| 12499.38457241987|\n",
      "|             BLAGNAC|11063.772282471182|\n",
      "|    VIEILLE TOULOUSE|           11000.0|\n",
      "|          AUCAMVILLE|10666.631636291262|\n",
      "|       TOURNEFEUILLE|   8923.4300772385|\n",
      "| VILLENEUVE TOLOSANE| 8602.436019322487|\n",
      "|RAMONVILLE-SAINT-...|  8406.71687244289|\n",
      "|             L UNION| 7907.361756859473|\n",
      "|          FENOUILLET| 7681.813880484121|\n",
      "+--------------------+------------------+\n",
      "only showing top 10 rows\n",
      "\n"
     ]
    }
   ],
   "source": [
    "import pyspark.sql.functions as f\n",
    "\n",
    "apartement = sales_df.filter(\"ResidenceType=='APARTMENT'\")\\\n",
    "                                         .groupBy('City')\\\n",
    "                                         .agg(f.sum('Price')/f.sum('LivingArea'))\\\n",
    "                                         .withColumnRenamed('(sum(Price) / sum(LivingArea))', 'Price_square')\\\n",
    "                                         .orderBy('Price_square', ascending=False)\n",
    "\n",
    "apartement.show(10)"
   ]
  },
  {
   "cell_type": "code",
   "execution_count": 41,
   "metadata": {},
   "outputs": [],
   "source": [
    "df_appartement= apartement.toPandas()"
   ]
  },
  {
   "cell_type": "code",
   "execution_count": 48,
   "metadata": {},
   "outputs": [
    {
     "data": {
      "text/plain": [
       "<matplotlib.axes._subplots.AxesSubplot at 0x14004a6ac50>"
      ]
     },
     "execution_count": 48,
     "metadata": {},
     "output_type": "execute_result"
    },
    {
     "data": {
      "image/png": "[encoded data removed]",
      "text/plain": [
       "<Figure size 1800x720 with 1 Axes>"
      ]
     },
     "metadata": {
      "needs_background": "light"
     },
     "output_type": "display_data"
    }
   ],
   "source": [
    "#for the top 10 city\n",
    "plt.figure(figsize=(25,10))\n",
    "sns.barplot(x='City',y='Price_square' ,data=df_appartement.head(10))"
   ]
  },
  {
   "cell_type": "markdown",
   "metadata": {},
   "source": [
    "After choosing to focus in the apartments, we find out that the price of meter square in Cugnaux is the highest which is equal to 15000, the second one is Toulouse where the price is equal 12500 while for Ramonville, L'union, Tournefeuille, the price is around 8000"
   ]
  },
  {
   "cell_type": "markdown",
   "metadata": {},
   "source": [
    " ## <font color='red'>For the Houses<font/>"
   ]
  },
  {
   "cell_type": "code",
   "execution_count": 50,
   "metadata": {
    "scrolled": true
   },
   "outputs": [
    {
     "name": "stdout",
     "output_type": "stream",
     "text": [
      "+--------------------+------------------+\n",
      "|                City|      Price_square|\n",
      "+--------------------+------------------+\n",
      "|          SAINT-JEAN|14871.181122078677|\n",
      "|              PIBRAC| 9046.763422564167|\n",
      "|            TOULOUSE| 4954.676941952277|\n",
      "|               BALMA| 3815.837518096311|\n",
      "|  PLAISANCE DU TOUCH|3812.0300820753514|\n",
      "|SAINT-ORENS-DE-GA...| 3715.380009283135|\n",
      "|           BEAUZELLE| 3516.966130563798|\n",
      "|             CUGNAUX|3421.6604730083013|\n",
      "|    CASTANET TOLOSAN|3331.0814854801783|\n",
      "|             BLAGNAC|3249.3765753236494|\n",
      "+--------------------+------------------+\n",
      "only showing top 10 rows\n",
      "\n"
     ]
    }
   ],
   "source": [
    "import pyspark.sql.functions as f\n",
    "\n",
    "House = sales_df.filter(\"ResidenceType=='HOUSE'\")\\\n",
    "                                         .groupBy('City')\\\n",
    "                                         .agg(f.sum('Price')/f.sum('LivingArea'))\\\n",
    "                                         .withColumnRenamed('(sum(Price) / sum(LivingArea))', 'Price_square')\\\n",
    "                                         .orderBy('Price_square', ascending=False)\n",
    "\n",
    "House.show(10)"
   ]
  },
  {
   "cell_type": "code",
   "execution_count": 51,
   "metadata": {
    "scrolled": true
   },
   "outputs": [],
   "source": [
    "df_house= House.toPandas()"
   ]
  },
  {
   "cell_type": "code",
   "execution_count": 56,
   "metadata": {
    "scrolled": false
   },
   "outputs": [
    {
     "data": {
      "text/plain": [
       "<matplotlib.axes._subplots.AxesSubplot at 0x1400397ec88>"
      ]
     },
     "execution_count": 56,
     "metadata": {},
     "output_type": "execute_result"
    },
    {
     "data": {
      "image/png": "[encoded data removed]",
      "text/plain": [
       "<Figure size 1800x1080 with 1 Axes>"
      ]
     },
     "metadata": {
      "needs_background": "light"
     },
     "output_type": "display_data"
    }
   ],
   "source": [
    "plt.figure(figsize=(25,15))\n",
    "sns.barplot(x='City',y='Price_square' ,data=df_house.head(10))"
   ]
  },
  {
   "cell_type": "markdown",
   "metadata": {},
   "source": [
    "For the houses case, it's different from the apartment because the cities with highest price of square meter aren't the same, here we find that Saint-Jean remain the first with the highest price equal to 15000, Pibrac is the second with price equal to 9000, Toulouse is the third while it was the third with price equal to 5000, Cugnaux which has the highest price in apartment case, here for the houses we can find that's belong to lower price interval equal to 3500"
   ]
  },
  {
   "cell_type": "markdown",
   "metadata": {},
   "source": [
    "## According to the number "
   ]
  },
  {
   "cell_type": "code",
   "execution_count": 99,
   "metadata": {},
   "outputs": [
    {
     "name": "stdout",
     "output_type": "stream",
     "text": [
      "+-------------+-----+\n",
      "|ResidenceType|count|\n",
      "+-------------+-----+\n",
      "|        HOUSE| 6191|\n",
      "|    APARTMENT|45606|\n",
      "+-------------+-----+\n",
      "\n"
     ]
    }
   ],
   "source": [
    "number_of_residence= sales_df.filter(\"City=='TOULOUSE'\").groupBy('ResidenceType').count()\n",
    "number_of_residence.show()"
   ]
  },
  {
   "cell_type": "code",
   "execution_count": 100,
   "metadata": {
    "scrolled": true
   },
   "outputs": [
    {
     "data": {
      "text/plain": [
       "<matplotlib.axes._subplots.AxesSubplot at 0x1400fc10748>"
      ]
     },
     "execution_count": 100,
     "metadata": {},
     "output_type": "execute_result"
    },
    {
     "data": {
      "image/png": "[encoded data removed]",
      "text/plain": [
       "<Figure size 360x360 with 1 Axes>"
      ]
     },
     "metadata": {
      "needs_background": "light"
     },
     "output_type": "display_data"
    }
   ],
   "source": [
    "plt.figure(figsize=(5,5))\n",
    "sns.barplot(x='ResidenceType',y='count',hue='ResidenceType' , data=number_of_residence.toPandas())"
   ]
  },
  {
   "cell_type": "code",
   "execution_count": 105,
   "metadata": {},
   "outputs": [
    {
     "name": "stdout",
     "output_type": "stream",
     "text": [
      "+-------------+-----+\n",
      "|ResidenceType|count|\n",
      "+-------------+-----+\n",
      "|        HOUSE|11439|\n",
      "|    APARTMENT|16882|\n",
      "+-------------+-----+\n",
      "\n"
     ]
    }
   ],
   "source": [
    "number_of_residence_real_estate= sales_df.filter(\"City!='TOULOUSE'\").groupBy('ResidenceType').count()\n",
    "number_of_residence_real_estate.show()"
   ]
  },
  {
   "cell_type": "code",
   "execution_count": 103,
   "metadata": {},
   "outputs": [
    {
     "data": {
      "text/plain": [
       "<matplotlib.axes._subplots.AxesSubplot at 0x14010045630>"
      ]
     },
     "execution_count": 103,
     "metadata": {},
     "output_type": "execute_result"
    },
    {
     "data": {
      "image/png": "[encoded data removed]",
      "text/plain": [
       "<Figure size 360x360 with 1 Axes>"
      ]
     },
     "metadata": {
      "needs_background": "light"
     },
     "output_type": "display_data"
    }
   ],
   "source": [
    "plt.figure(figsize=(5,5))\n",
    "sns.barplot(x='ResidenceType',y='count',hue='ResidenceType' , data=number_of_residence_real_estate.toPandas())"
   ]
  },
  {
   "cell_type": "markdown",
   "metadata": {},
   "source": [
    "In Toulouse, we can see that it has a lot of apartment compared to number of houses which is equalt to 1/5 number of apartments while for the other cities, number of apartments still higher alos than number of houses that increase to be equal to 110000"
   ]
  },
  {
   "cell_type": "markdown",
   "metadata": {},
   "source": [
    "## According to the number of Rooms"
   ]
  },
  {
   "cell_type": "code",
   "execution_count": 138,
   "metadata": {
    "scrolled": true
   },
   "outputs": [
    {
     "name": "stdout",
     "output_type": "stream",
     "text": [
      "+-------------+-----------------+------------------+-----------------+-------------------+------------------+------------------+\n",
      "|ResidenceType|       avg(Price)|     avg(PostCode)|     avg(NbRooms)|        avg(NbLots)|   avg(LivingArea)|     avg(LandArea)|\n",
      "+-------------+-----------------+------------------+-----------------+-------------------+------------------+------------------+\n",
      "|        HOUSE|517728.9272460021|31274.430625100955|4.347762881602326|0.17057018252301728|104.49297367145857|493.43110967533516|\n",
      "|    APARTMENT|683836.8735260702|31246.662719817567|2.547537604701136| 1.2188966364074902| 54.70964346796474| 155.0749682059378|\n",
      "+-------------+-----------------+------------------+-----------------+-------------------+------------------+------------------+\n",
      "\n"
     ]
    }
   ],
   "source": [
    "number_of_room_toulouse= sales_df.filter(\"City=='TOULOUSE'\").groupBy('ResidenceType').mean()\n",
    "number_of_room_toulouse.show()"
   ]
  },
  {
   "cell_type": "code",
   "execution_count": 141,
   "metadata": {},
   "outputs": [
    {
     "data": {
      "text/plain": [
       "<matplotlib.axes._subplots.AxesSubplot at 0x14010ae12b0>"
      ]
     },
     "execution_count": 141,
     "metadata": {},
     "output_type": "execute_result"
    },
    {
     "data": {
      "image/png": "[encoded data removed]",
      "text/plain": [
       "<Figure size 432x288 with 1 Axes>"
      ]
     },
     "metadata": {
      "needs_background": "light"
     },
     "output_type": "display_data"
    }
   ],
   "source": [
    "sns.barplot(x='ResidenceType',y='avg(NbRooms)',data=number_of_room_toulouse.toPandas())"
   ]
  },
  {
   "cell_type": "code",
   "execution_count": 134,
   "metadata": {},
   "outputs": [
    {
     "data": {
      "text/plain": [
       "<matplotlib.axes._subplots.AxesSubplot at 0x14010a714a8>"
      ]
     },
     "execution_count": 134,
     "metadata": {},
     "output_type": "execute_result"
    },
    {
     "data": {
      "image/png": "[encoded data removed]",
      "text/plain": [
       "<Figure size 432x288 with 1 Axes>"
      ]
     },
     "metadata": {
      "needs_background": "light"
     },
     "output_type": "display_data"
    }
   ],
   "source": [
    "number_of_room_real_estate= sales_df.filter(\"City!='TOULOUSE'\").groupBy('ResidenceType').mean()\n",
    "sns.barplot(x='ResidenceType',y='avg(NbRooms)',data=number_of_room_real_estate.toPandas())"
   ]
  },
  {
   "cell_type": "markdown",
   "metadata": {},
   "source": [
    "# Identification of sales outliers"
   ]
  },
  {
   "cell_type": "code",
   "execution_count": 85,
   "metadata": {},
   "outputs": [],
   "source": [
    "df_house= profit_ratio_region_ordered_df_house.toPandas()"
   ]
  },
  {
   "cell_type": "code",
   "execution_count": 119,
   "metadata": {
    "scrolled": false
   },
   "outputs": [
    {
     "data": {
      "text/plain": [
       "<matplotlib.axes._subplots.AxesSubplot at 0x1c85efff2b0>"
      ]
     },
     "execution_count": 119,
     "metadata": {},
     "output_type": "execute_result"
    },
    {
     "data": {
      "image/png": "[encoded data removed]",
      "text/plain": [
       "<Figure size 432x288 with 1 Axes>"
      ]
     },
     "metadata": {
      "needs_background": "light"
     },
     "output_type": "display_data"
    }
   ],
   "source": [
    "sns.boxplot(x='Price_square', data=df_evolution)"
   ]
  },
  {
   "cell_type": "markdown",
   "metadata": {},
   "source": [
    "This graph shows that the distribution is skewed to the left with a mean price equal to 4200 and the minimum price is below 4000, while the maximum price is 8500 with the existence of some outliers price which are equal to approximately 12000 and 1400 "
   ]
  },
  {
   "cell_type": "markdown",
   "metadata": {},
   "source": [
    "# Differences between types of Saletype "
   ]
  },
  {
   "cell_type": "markdown",
   "metadata": {},
   "source": [
    "### For House"
   ]
  },
  {
   "cell_type": "code",
   "execution_count": 106,
   "metadata": {
    "scrolled": true
   },
   "outputs": [
    {
     "name": "stdout",
     "output_type": "stream",
     "text": [
      "+--------------------+--------------------+-------------+------------+-----------+---------------+-------------+\n",
      "|            SaleType|          sum(Price)|sum(PostCode)|sum(NbRooms)|sum(NbLots)|sum(LivingArea)|sum(LandArea)|\n",
      "+--------------------+--------------------+-------------+------------+-----------+---------------+-------------+\n",
      "|SALE BEFORE COMPL...|2.4256131114000002E8|     22649030|        2796|        800|          59342|        32386|\n",
      "|                SALE| 7.721473031579999E9|    530942170|       75789|       2248|        1826784|      9908893|\n",
      "+--------------------+--------------------+-------------+------------+-----------+---------------+-------------+\n",
      "\n"
     ]
    }
   ],
   "source": [
    "\n",
    "\n",
    "Differences_between_types_of_sales = sales_df.filter(\"ResidenceType=='HOUSE'\").groupBy('SaleType').sum()\n",
    "                                           \n",
    "Differences_between_types_of_sales.show(10)"
   ]
  },
  {
   "cell_type": "code",
   "execution_count": 107,
   "metadata": {},
   "outputs": [],
   "source": [
    "df_Differences_between_types_of_sales= Differences_between_types_of_sales.toPandas()"
   ]
  },
  {
   "cell_type": "code",
   "execution_count": 108,
   "metadata": {},
   "outputs": [
    {
     "data": {
      "text/plain": [
       "<matplotlib.axes._subplots.AxesSubplot at 0x140100be0b8>"
      ]
     },
     "execution_count": 108,
     "metadata": {},
     "output_type": "execute_result"
    },
    {
     "data": {
      "image/png": "[encoded data removed]",
      "text/plain": [
       "<Figure size 432x288 with 1 Axes>"
      ]
     },
     "metadata": {
      "needs_background": "light"
     },
     "output_type": "display_data"
    }
   ],
   "source": [
    "sns.barplot(x='SaleType',y='sum(Price)',data=df_Differences_between_types_of_sales)"
   ]
  },
  {
   "cell_type": "code",
   "execution_count": 109,
   "metadata": {
    "scrolled": false
   },
   "outputs": [
    {
     "name": "stdout",
     "output_type": "stream",
     "text": [
      "+--------------------+--------------------+-------------+------------+-----------+---------------+-------------+\n",
      "|            SaleType|          sum(Price)|sum(PostCode)|sum(NbRooms)|sum(NbLots)|sum(LivingArea)|sum(LandArea)|\n",
      "+--------------------+--------------------+-------------+------------+-----------+---------------+-------------+\n",
      "|SALE BEFORE COMPL...|3.7403509064600005E9|    398410390|       32031|      17954|         679313|          224|\n",
      "|                SALE|3.532664131181998E10|   1558109550|      129746|      62084|        2793875|     10410602|\n",
      "+--------------------+--------------------+-------------+------------+-----------+---------------+-------------+\n",
      "\n"
     ]
    }
   ],
   "source": [
    "\n",
    "\n",
    "Differences_between_types_of_sales_app= sales_df.filter(\"ResidenceType=='APARTMENT'\").groupBy('SaleType').sum()\n",
    "                                           \n",
    "Differences_between_types_of_sales_app.show(10)"
   ]
  },
  {
   "cell_type": "code",
   "execution_count": 111,
   "metadata": {
    "scrolled": true
   },
   "outputs": [
    {
     "data": {
      "text/plain": [
       "<matplotlib.axes._subplots.AxesSubplot at 0x140100e78d0>"
      ]
     },
     "execution_count": 111,
     "metadata": {},
     "output_type": "execute_result"
    },
    {
     "data": {
      "image/png": "[encoded data removed]",
      "text/plain": [
       "<Figure size 432x288 with 1 Axes>"
      ]
     },
     "metadata": {
      "needs_background": "light"
     },
     "output_type": "display_data"
    }
   ],
   "source": [
    "sns.barplot(x='SaleType',y='sum(Price)',data=Differences_between_types_of_sales_app.toPandas())"
   ]
  },
  {
   "cell_type": "markdown",
   "metadata": {},
   "source": [
    "What we can observe from this 2 graphs is that most of sales are done after completion. "
   ]
  }
 ],
 "metadata": {
  "kernelspec": {
   "display_name": "Python 3",
   "language": "python",
   "name": "python3"
  },
  "language_info": {
   "codemirror_mode": {
    "name": "ipython",
    "version": 3
   },
   "file_extension": ".py",
   "mimetype": "text/x-python",
   "name": "python",
   "nbconvert_exporter": "python",
   "pygments_lexer": "ipython3",
   "version": "3.7.3"
  }
 },
 "nbformat": 4,
 "nbformat_minor": 2
}
